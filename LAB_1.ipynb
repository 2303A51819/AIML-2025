{
  "nbformat": 4,
  "nbformat_minor": 0,
  "metadata": {
    "colab": {
      "provenance": [],
      "authorship_tag": "ABX9TyNnRLBvlwL8lo0xjKyLKK9p",
      "include_colab_link": true
    },
    "kernelspec": {
      "name": "python3",
      "display_name": "Python 3"
    },
    "language_info": {
      "name": "python"
    }
  },
  "cells": [
    {
      "cell_type": "markdown",
      "metadata": {
        "id": "view-in-github",
        "colab_type": "text"
      },
      "source": [
        "<a href=\"https://colab.research.google.com/github/2303A51819/AIML-2025/blob/main/LAB_1.ipynb\" target=\"_parent\"><img src=\"https://colab.research.google.com/assets/colab-badge.svg\" alt=\"Open In Colab\"/></a>"
      ]
    },
    {
      "cell_type": "markdown",
      "source": [
        "Lab01- Implement basic data structures of Numpy, Pandas, Matplotlib and Access Data from sources]\n"
      ],
      "metadata": {
        "id": "jEbNVkR69jdu"
      }
    },
    {
      "cell_type": "markdown",
      "source": [
        "K.Sai Charan Teja\n"
      ],
      "metadata": {
        "id": "1vnLZqdP9qIU"
      }
    },
    {
      "cell_type": "markdown",
      "source": [
        "Part 01: Lab Task is implement the following data structures using Numpy and Pandas.**\n",
        "Lists\n",
        "Arrays\n",
        "Identify their type using type()\n",
        "Perform mathematical operations on these datasets created - multiplication, division, poweroff\n",
        "Combine text with Numpy fuction to generate a textual output - ”Addition of Two: array1 +array 2\n",
        "Implement np.sin(), log(), log2(), np.exp())"
      ],
      "metadata": {
        "id": "hjv-40Jz-Qjl"
      }
    },
    {
      "cell_type": "code",
      "source": [
        "import numpy as np\n",
        "lst1=[1,2,3]\n",
        "array1 = np.array(lst1)\n",
        "array1"
      ],
      "metadata": {
        "colab": {
          "base_uri": "https://localhost:8080/"
        },
        "id": "tsExlgew-Rr2",
        "outputId": "bd1585ab-6278-4202-bfc0-e9a371646481"
      },
      "execution_count": null,
      "outputs": [
        {
          "output_type": "execute_result",
          "data": {
            "text/plain": [
              "array([1, 2, 3])"
            ]
          },
          "metadata": {},
          "execution_count": 1
        }
      ]
    },
    {
      "cell_type": "code",
      "source": [
        "type(lst1)"
      ],
      "metadata": {
        "colab": {
          "base_uri": "https://localhost:8080/"
        },
        "id": "9U1_wQ80-avF",
        "outputId": "4daf6162-c77c-4a58-cf03-1b6781438513"
      },
      "execution_count": null,
      "outputs": [
        {
          "output_type": "execute_result",
          "data": {
            "text/plain": [
              "list"
            ]
          },
          "metadata": {},
          "execution_count": 2
        }
      ]
    },
    {
      "cell_type": "code",
      "source": [
        "type(array1)"
      ],
      "metadata": {
        "colab": {
          "base_uri": "https://localhost:8080/"
        },
        "id": "0_mvytt6-fts",
        "outputId": "caa34d74-2c22-4fc5-cb73-6d6edfd197cd"
      },
      "execution_count": null,
      "outputs": [
        {
          "output_type": "execute_result",
          "data": {
            "text/plain": [
              "numpy.ndarray"
            ]
          },
          "metadata": {},
          "execution_count": 3
        }
      ]
    },
    {
      "cell_type": "markdown",
      "source": [
        "Perform Mathematical Operations on these datasets - Multiplication, Division, Poweroff"
      ],
      "metadata": {
        "id": "GlocYa87-j8t"
      }
    },
    {
      "cell_type": "code",
      "source": [
        "list2=[3,2,1]\n",
        "array2=np.array(list2)\n",
        "array2"
      ],
      "metadata": {
        "colab": {
          "base_uri": "https://localhost:8080/"
        },
        "id": "RqIqV6Ts-nPN",
        "outputId": "f4820309-774c-4e8d-af15-46d1afb3c605"
      },
      "execution_count": null,
      "outputs": [
        {
          "output_type": "execute_result",
          "data": {
            "text/plain": [
              "array([3, 2, 1])"
            ]
          },
          "metadata": {},
          "execution_count": 4
        }
      ]
    },
    {
      "cell_type": "code",
      "source": [
        "print(\"array2 multiplied by array1: \",array1*array2)\n",
        "print(\"array2 divided by array1: \",array2/array1)\n",
        "print(\"array2 raised to the power of array1: \",array2**array1)\n",
        "print(f\" {array2} raised to the power of {array1}:,{array2**array1}\")"
      ],
      "metadata": {
        "colab": {
          "base_uri": "https://localhost:8080/"
        },
        "id": "BEECoPEP-udl",
        "outputId": "7c203e0c-028f-42e9-cc3e-217b5bdac7ec"
      },
      "execution_count": null,
      "outputs": [
        {
          "output_type": "stream",
          "name": "stdout",
          "text": [
            "array2 multiplied by array1:  [3 4 3]\n",
            "array2 divided by array1:  [3.         1.         0.33333333]\n",
            "array2 raised to the power of array1:  [3 4 1]\n",
            " [3 2 1] raised to the power of [1 2 3]:,[3 4 1]\n"
          ]
        }
      ]
    },
    {
      "cell_type": "code",
      "source": [
        "# sine function\n",
        "print(\"Sine: \",np.sin(array1))\n",
        "# logarithm\n",
        "print(\"Natural logarithm: \",np.log(array1))\n",
        "print(\"Base-10 logarithm: \",np.log10(array1))\n",
        "print(\"Base-2 logarithm: \",np.log2(array1))\n",
        "# Exponential\n",
        "print(\"Exponential: \",np.exp(array1))"
      ],
      "metadata": {
        "colab": {
          "base_uri": "https://localhost:8080/"
        },
        "id": "T2lagJgL-xNd",
        "outputId": "9fef01b3-ed34-4e16-c827-307b58ed65e5"
      },
      "execution_count": null,
      "outputs": [
        {
          "output_type": "stream",
          "name": "stdout",
          "text": [
            "Sine:  [0.84147098 0.90929743 0.14112001]\n",
            "Natural logarithm:  [0.         0.69314718 1.09861229]\n",
            "Base-10 logarithm:  [0.         0.30103    0.47712125]\n",
            "Base-2 logarithm:  [0.        1.        1.5849625]\n",
            "Exponential:  [ 2.71828183  7.3890561  20.08553692]\n"
          ]
        }
      ]
    },
    {
      "cell_type": "code",
      "source": [
        "print(\"Adding two numpy arrays {array1} and {array2} together:\", array1+array2)"
      ],
      "metadata": {
        "colab": {
          "base_uri": "https://localhost:8080/"
        },
        "id": "C3O0SSwq-06V",
        "outputId": "4a3a11c5-6895-448e-a8ea-fbc6d4b86106"
      },
      "execution_count": null,
      "outputs": [
        {
          "output_type": "stream",
          "name": "stdout",
          "text": [
            "Adding two numpy arrays {array1} and {array2} together: [4 4 4]\n"
          ]
        }
      ]
    },
    {
      "cell_type": "code",
      "source": [
        "print(f\"Adding two numpy arrays {array1} and {array2} together: {array1+array2}\")"
      ],
      "metadata": {
        "colab": {
          "base_uri": "https://localhost:8080/"
        },
        "id": "EE5uL2Vr-4tV",
        "outputId": "981ca388-1789-4061-bbe3-e1e3a739e9f0"
      },
      "execution_count": null,
      "outputs": [
        {
          "output_type": "stream",
          "name": "stdout",
          "text": [
            "Adding two numpy arrays [1 2 3] and [3 2 1] together: [4 4 4]\n"
          ]
        }
      ]
    },
    {
      "cell_type": "markdown",
      "source": [
        "Part-02: Lab Task is to visualize the datasets or data using Matplotlib\n",
        "builtin function Graphs\n",
        "Generate Scatterplot\n",
        "Let's suppose we collected age (in years), height (in cm), and weight (in kilograms) information from few patients visitng a clinic."
      ],
      "metadata": {
        "id": "18pfAj_x-9Yd"
      }
    },
    {
      "cell_type": "code",
      "source": [
        "people = ['Ann','Brandon','Chen','David','Emily','Farook',\n",
        "          'Gagan','Hamish','Imran','Julio','Katherine','Lily']\n",
        "age = [21,12,32,45,37,18,28,52,5,40,48,15]\n",
        "weight = [55,35,77,68,70,60,72,69,18,65,82,48]\n",
        "height = [160,135,170,165,173,168,175,159,105,171,155,158]"
      ],
      "metadata": {
        "id": "dBRtR2O1-8PV"
      },
      "execution_count": null,
      "outputs": []
    },
    {
      "cell_type": "code",
      "source": [
        "import matplotlib.pyplot as plt"
      ],
      "metadata": {
        "id": "VkHV1Nn4_L0k"
      },
      "execution_count": null,
      "outputs": []
    },
    {
      "cell_type": "code",
      "source": [
        "plt.scatter(weight, height)\n",
        "plt.title(\"Relationship between Weight and Height of Patients\")\n",
        "plt.ylabel(\"Height in Meters\")\n",
        "plt.xlabel(\"Weight of Patients in Kgs\")\n",
        "plt.show()"
      ],
      "metadata": {
        "id": "vpWYbA25_O51"
      },
      "execution_count": null,
      "outputs": []
    },
    {
      "cell_type": "markdown",
      "source": [
        "![image.png](data:image/png;base64,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)"
      ],
      "metadata": {
        "id": "U6d511Li_Rg9"
      }
    },
    {
      "cell_type": "markdown",
      "source": [
        "Generate Bar Plot"
      ],
      "metadata": {
        "id": "kmfddhBy_Utd"
      }
    },
    {
      "cell_type": "code",
      "source": [
        "plt.figure(figsize=(12,4))\n",
        "plt.title(\"People's weight in kgs\",fontsize=16,\n",
        "          fontstyle='italic')\n",
        "\n",
        "# Main plot function 'bar'\n",
        "plt.bar(x=people,height=weight, width=0.6,\n",
        "        color='orange',edgecolor='k',alpha=0.6)\n",
        "\n",
        "plt.xlabel(\"People\",fontsize=15)\n",
        "#plt.xticks(fontsize=14,rotation=30)\n",
        "#plt.yticks(fontsize=14)\n",
        "plt.ylabel(\"Weight (in kgs)\",fontsize=15)\n",
        "plt.show()"
      ],
      "metadata": {
        "id": "QDS4w65-_aU9"
      },
      "execution_count": null,
      "outputs": []
    },
    {
      "cell_type": "markdown",
      "source": [
        "![image.png](data:image/png;base64,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)"
      ],
      "metadata": {
        "id": "9NRDotWw_cwF"
      }
    },
    {
      "cell_type": "markdown",
      "source": [
        "Generate Histogram"
      ],
      "metadata": {
        "id": "f8_rAIVJ_fQ9"
      }
    },
    {
      "cell_type": "code",
      "source": [
        "import numpy as np\n",
        "plt.figure(figsize=(7,5))\n",
        "\n",
        "# Main plot function 'hist'\n",
        "plt.hist(weight,color='red',edgecolor='k', alpha=0.75,bins=5)\n",
        "\n",
        "plt.title(\"Histogram of patient weight\",fontsize=18)\n",
        "plt.xlabel(\"Weight in kgs\",fontsize=15)\n",
        "#plt.xticks(fontsize=15)\n",
        "#plt.yticks(fontsize=15)\n",
        "plt.show()"
      ],
      "metadata": {
        "id": "6J9KWPC7_iz1"
      },
      "execution_count": null,
      "outputs": []
    },
    {
      "cell_type": "markdown",
      "source": [
        "![image.png](data:image/png;base64,iVBORw0KGgoAAAANSUhEUgAAAbMAAAFbCAYAAABf+mBoAAAgAElEQVR4Ae2dCZwtRX3vf4KK4oIKmrjNQ0VD1KhxeARfeHhVJBIVAVExUaPGIC4Yg7g+o4joM0ZIYtS4EXABiYpbglFxIRpBDS5xCaIgGFRURBZRFMWb87u36lK3p/7TZ3rmzOk+51ufT8/0qd6qfl31+3ZVV3dLBBRAARRAARRAARRAARRAARRAARRAARRAARRAARRAARRAARRAARRAARRAARRAARRAARRAARRAARRAARRAARRAARRAARRAARRAgTEUOF3SBWOsxyqTU2B7Sa+W9N+Srunp+Xi8pI2SNkxOhkHseeekw5GrSC11bhXisensK2CTsdkcsUxWvfxfGsu7Vqx7jfbjCu3KTVidAi9J5+6vJT1W0v6r213nrV2GfE5vVtnDesPsmSOo+5h9C+sNM+pZ30oA6Zm4Al1hdn1J23VI3XqbW4ckDmaTMyR9uQepNch8wVO7QNlW0g0kbbNO6XRvgS+0+hauk3S47ioStpILSOrZKoRm02Eq0BVmXXPbp0p2k66Z6Ml23+qJcS8Hs/WWqq8wWwsdgNlaqMg+ZlaBrjCrVay7SXqXpO9K+oWk70v6hKQHJ/Wy6fkqvpxOKNTdSdJrJV0o6er03793LNbJs24JnCLpijS9X9Id0r2j5tW5j+fjPEDSv4+6Va8sQHAbSceMuum+JOlSST+X9F+SnivJLYsyZBh7Py+S9O3ReldJ+qykPdKK903H+Kmki0b3s/6y3EHLvK/cfVwf3+m4RNJ7R/n8nWK7nIZSQ89b3yiU3VyPTi0679/327xds8Wwq6TXSfqapJ9I+pmkz0t6UuMA1rSZjjItOa0uZ2Vwq/4Faf9Ox2WS/lnS75YrpXtt3p/384S0vsuWdX9OY91aOhxXazHmTc+X9G/5R/r//JQnl6cy/FWK/40ictx8lPoXm8v3PY9N5cTl6DOpjGZdy3VznXN5fUcqqz4vH5Z0l2LFcepZsTqzKDAbCmSY2ZgNktpkQ2i7Z2bY/CBNvpfzxGQ27xx1MR2VpLqHpDckQ3iZpMek6T5p+Q6SvjGCxK8lvVnSUyW9Kf0+ewScsiXl42XgeRDEU0YV+qQEsosLUOWz5Dx8NRmzzePP0uTlD5JkU3P800bG6vsuH0rpdHrLkM35PyR9YQTRw0fQed5oOx/TUPV9KwPo/6c0GeY+tvM6TvintP5HRvs5TJJ1stEbvtno75j252Nal6yj9Y1CNlOn2fvzfr3/09Lxjm9seGjSywbu+Wclo3VebPY5+Ny9J+3DujXTkvUqYXa9dJFjKPk8+9xZw/MSNHfLOy9gZpP3OXqhpKcXafmjYl0fu6mJ425UrNOcPS5deN2wWPDRNKDGOpUXMz7nhnsOK8lH1r95wXFq0s4XLC57r0rl6D9TfD6W/xtmzt+5kt6edHtlSr/LQU5rWz0r98k8CsyMAhlmNqnlpjaY7Ze2f2SLMjVzy5vYYJ0GQ6wMruSOf2kR6UrsuD8u4jyb42stM6+/d2N9/7SR+Z5GM7wtmdqtiwU5/YaC7xvmkPP/yxH4SzP2Om6dnZlXXOb/A1OeDLQyPfccmfivRlfsn2psu5IutWym10i6d7EfH8dGam1yy9KLawDwfS/revkIhjbyHHJLwMdohqxXCbO/SMf7g8bKN00txfLc5fL5PUm+2MnBLRobe1PXlWjifbn8OO/W3sEtLbd2fO4dv3uK97F9Dv4+/fa/leQj61/C7A/TMXzBVoYc7+OXwbo4rtkifXaKL/Ws6V7ui3kUmDkFslm4BWKjr02uQG0wc9ea1/MVvk0pCstVMnet/bDS5eUuMMe7ZZWDr0RtcM2BBbdK6SgN0ds4be5GbAuGzy1SC9VX9d7uocVGOf1u2ZXh5mldd2E2g7urftSMrPx2t56PV2thZeDcsthuJcadzdQtzmZw68rHdSusFjyAwy1ht9rdNeh1y27PlcLM3ZU+f7VeALeUDI3cUsrl0xc6zeBuyaauK9HE+/OFivPjlrRDPp7z55ZZboXmi5UD0nr+t5J8ZP1LmP1DOvZvF/vMs64LTlcZXKZ9MeLzUYbFtK5brDnkcur8EFBgLhTIlXcthua/JVUq3+v69Kh14e7GuzZUXK6S+Z5Bs/WRNzckfMWcg++zfDL/aPz3fa8azNzlWQuGpbuvchenTaScHldslNPve2bN4G18Rd8MtfsfzXX8+1+TWZWtnrze0SlNuaXg+JUYdzbTv8k7LP671eG0+35nDjdOXV6+p1Zqkef3yiuO/q8UZj6PeT/R/9un/efy+afF8fJsTdeVaJL3Y7D6nqeDu8TdknbwRYi7YR3+Np0bX7TksJJ8ZP1LmPnCwnCqne988ZKP5f8u0+5ab4a87xcXC3I5BWaFKMzOtgLZLNYCZlbq7pLc7fGBdJ/HV9njXjFOGmY2v1rwPTeb6smj+zJ/MjK2fVML1d05jrcx5LCcSXjd2jFqppv3V/7vE8x8/nzv8vUjyPu+lLuw3Gr3fUXnszTJlcLM59mPFNR6AXJcbn3k8lmeg6xZTdcuMPMAI5dTQ90XTb736vDn6QLKXY9Or1tiZVhJPjJwajBrDr7xMSKYOX/NUNv3cuW0uT2/UWAmFMhmsVYwK0XxQ7TnJKjle0CGRdMM8za+uT5uN+PXO3Qz1kDjY7sl1xzR5ngPfFhPmNlUfbxaN2MeZLEe3Yw+bwaZW9rN8IrK+XOLwOm2qTZDzVQNBrd+ml3EzW39O5fPcWHmQSLNVnltv2Xcw1P6DW33KuRWoC/MnK9HJD38cHoZVpKPGnB8oeD9r6SbcVyYLVfPyjwwjwIzo0A2i9XCzPeZaubkrhQbY74Hko3jwIqCeQCIIVIGj3ZzpS8HgNhYHLeSASARzHzfpdll6QEQBrGPURppzZxzWr1u7Ri1FkTepvyfB4B42HWGv5fbVN1yaHbBrqQVks10uQEgeVSpR436nL21TFy6v2StnE+Xmxw80tFx5cCSvKyml8ua14/KXDn0PZfP8hzkfdd0/UqHB8lddp3ffJ/Kj3fk4BG6vshyet1iL8NK8pH1L1tmfmTF+31juVNJyw0AGRdmy9WzxuH4iQKzoUA2i8hYnEtXuLYBIB6W7Wd/fG/B3YpPTt013taj83JYSPcJ3GXjK+CDR/eKfi8tdDeP71vZcF3BDTH/92+3xMqh+R484OfZfCX9d2ndcmi+h8SXwemogcbr5Ctkp9MDO3z/zA8keyi2tyuNtGbO+TjRMWqmm7dp/s9D830RYB19r8wtx3Joft6mC8zKofnefx6a3wRXvgjxwCA/W+YLCbeasyYlzH4/6eR9WR+fUwPYoaaX7xH52Sjr9cEEtUNSXj06sTx3uXyW5yDtetP59D7KkB/lcHrd0nJaaiMzy208/8WUHrfsyuCuZx/D5cz3EcuwknzUYOYLFuvs/bvl7VG8vkjzaNFoaP64MFuunpV5YB4FZkaBbBarhZnfBeduKT8D44eF/cyVK6Sv2n3PoQzuAvFVsA3CFbmEjLvRPKrvO5I8zN3/3f1meDWDr6BtAn6o18fLD0279WCTLEPzOOUyD/O2iRjGHljyzfTckwd5eLvSSGvmnPcVHWMlMPP9Ez807UEJfg7rx5Le1xg9mI/XBWZuGeSHpr1/DyjwoIfmIATr7WfAPGLUmrjFY9BH+ff9RV8A+JxZh9wCidZ3Pp+R4Ojy4sm6nyhpn5zBDt2MHs3qB+mtm1tbTotB0hb80LzX9WjKMjjPjveAploYNx81mHl/Bq0vAN0C9D04D0S5/+hi4N2NAU9e192n48LM6y9Xz2p5IQ4FUKBHCngIuc3HrS3CtQpEZnrtGsz1SQFfPLg3goACKDAHCuT7cGVW87003zMgXKsAMLtWiz7N1cpwvpdWPqDdpzSTFhRAgTVWwPdW3IXn7irfs/NDtLlLKL/aZ40POdjdAbN+njo/rO37Zu5a9sAn9yi4+91d5bfrZ5JJFQqgwFor4Ptxvi/nG+Y2AN+z8bvtyoEia33Moe4PmPXzzHnkokfSGl6+3+h7Zx7Nuks/k0uqUAAFUAAFUAAFUAAFUAAFUAAFUGDuFdhxxx03Li4uMqEBZYAyQBmgDGwpA+nrC8NhpEFGQAEUQAEUQIFSAUlnDYdko2FuwKw8fcyjAAqgAApYAWBGOUABFEABFBi8AsBs8KeQDKAACqAACgAzygAKoAAKoMDgFQBmgz+FZAAFUAAFUGAtYXbb9HkL34hrfmKhOcjEnwg5Pn0Sw2998Bu2/WLZ1sAAEAotCqAACqBAU4G1hJm/QfX99E69Npj5G0j+3pBfIntA+vZV84OFVbABs+Yp5DcKoAAKoMBawWyv9N2h/MXW5WDmr+C69eZtctg9xe2dI6L/wIxCiwIogAIo0FRgLWDmt5r7JbF+23n+gN9yMPMHBN2Cawa/XNYf1ls2ALPmKeQ3CqAACqDAWsDsaenjc/7C7Tgwe2f60moTWqdK8rRsAGYUWhRAARRAgaYCq4WZB234s+b+/IHDODA7LX0+Pm2y5d/bR59ZP2PLr2AGmDVPIb9RAAVQAAVWCzN/gO6DBXcmBbNDUkLPWlhY4KyhAAr0UIFH7bPPxg277spU0WDXHXdEl4ouLi8uN2sRVgOzu6UPKe4h6WZpemoayOFh+rXPiJt77mb0l4WbgW7GtTij7AMFpqSAjWnjhg1MFQ3ueP3ro0tFF5eXTeVmDcrsamC2fwKXRybWpjc3aZV+ewDIRZVl5zEAZA3OKLtAgSkpAMxikAOzWJs+wGyn0UCODY3pFQls+44+Gf5bFWA5Kg/N37NYvlvajqH5UzIiDosCq1UAmMWGDcxibfoAs4JFW2Zr98zOlXTcljU2z/ihaQ/FP1CSW3jnSOKh6dW6CdujwBQVAGaxYQOzWJshwewCSSc0YOZ7bH6d1WWSrpDkt4e4pdcaGM04Rbfi0CiwjALALDZsYBZr01eYtcJotSsAs2XchEUoMEUFgFls2MAs1gaYTbHScmgUQIGlCgCz2LCBWawNMFtal4hBARSYogLALDZsYBZrA8ymWGk5NAqgwFIFgFls2MAs1gaYLa1LxKAACkxRAWAWGzYwi7UBZlOstBwaBVBgqQLALDZsYBZrA8yW1iViUAAFpqgAMIsNG5jF2gCzKVZaDo0CKLBUAWAWGzYwi7UBZkvrEjEogAJTVACYxYYNzGJtgNkUKy2HRgEUWKoAMIsNG5jF2gCzpXWJGBRAgSkqAMxiwwZmsTbAbIqVlkOjAAosVQCYxYYNzGJtgNnSukQMCqDAFBUAZrFhA7NYG2A2xUrLoVEABZYqAMxiwwZmsTbAbGldIgYFUGCKCgCz2LCBWawNMJtipeXQKIACSxUAZrFhA7NYG2C2tC4RgwIoMEUFgFls2MAs1gaYTbHScmgUQIGlCgCz2LCBWawNMFtal4hBARSYogLALDZsYBZrA8ymWGk5NAqgwFIFgFls2MAs1qYPMDtI0hmSLpH0c0nnSHqhpOsrDjtL2liZTo432XrJ4uLi0lpEDAqgwNQVAGaxYQOzWJs+wOzJko6WdICk+0l67mi6StJrtsbPVr8yzJ4laY9i2mWrtZb5Acym7lkkAAWqCgCz2LCBWaxNH2BWQ87LJF0m6Tq1hZIyzB4SLG+NBmZVHyESBaauADCLDRuYxdr0FWaHS/oZMJu6r5AAFFh3BYBZbNjALNamTzDbVtL2kvaUdIGkY5ZpXuWW2cWSrpF0kaRjJd1wmW22WkTLbN09igOiwFgKALPYsIFZrE2fYObBH3lQx1skbbMVfbb+cet0T20/SRtGi45M99nev/Vq8S9gNpavsBIKrLsCwCw2bGAWa9MnmN07tcrcxej7Za+LUVRd8pQEw3tWl26OPETSWZ4WFhbWvZJyQBRAgXYFgFls2MAs1qZPMCsZ9LgEpjuVkS3zt0zbPLFlvU2LaZm1mwproMA0FABmsWEDs1ibvsLs7glMe48DprTOTmmbJ4yzDTCbhk1xTBRoVwCYxYYNzGJt+gozP3vm+2craZkdmra5BzBrNwzWQIG+KgDMYsMGZrE2fYDZhyQdIWnf0ZtA9hkNx3/J6PeVksq3eZwr6bgCUh7w4dGOB0py6+2oNADklGKdZWdpmfXVykjXvCsAzGLDBmaxNn2A2UslfTUBzAM/vjB6tdVhkq5X0MhD9U8ofh+cBnJcLulqSYadgbZdsc6ys8Bs3i2T/PdVAWAWGzYwi7XpA8yWhc6kFgKzvloZ6Zp3BYBZbNjALNYGmM27c5B/FOiZAsAsNmxgFmsDzHpWkUkOCsy7AsAsNmxgFmsDzObdOcg/CvRMAWAWGzYwi7UBZj2ryCQHBeZdAWAWGzYwi7UBZvPuHOQfBXqmADCLDRuYxdoAs55VZJKDAvOuADCLDRuYxdoAs3l3DvKPAj1TAJjFhg3MYm2AWc8qMslBgXlXAJjFhg3MYm2A2bw7B/lHgZ4pAMxiwwZmsTbArGcVmeSgwLwrAMxiwwZmsTbAbN6dg/yjQM8UAGaxYQOzWBtg1rOKTHJQYN4VAGaxYQOzWBtgNu/OQf5RoGcKALPYsIFZrA0w61lFJjkoMO8KALPYsIFZrA0wm3fnIP8o0DMFgFls2MAs1gaY9awikxwUmHcFgFls2MAs1gaYzbtzkH8U6JkCwCw2bGAWawPMelaRSQ4KzLsCwCw2bGAWawPM5t05yD8K9EwBYBYbNjCLtQFmPavIJAcF5l0BYBYbNjCLtekDzA6SdIakSyT9XNI5kl4o6fpaPuwg6XhJl0q6XNKJknZcfpNrly4uLs67Z5B/FOilAsAsNmxgFmvTB5g9WdLRkg6QdD9Jzx1NV0l6zbXoqc59WNL5kh6etv2GpE9V16xEArNe+hiJQoGNwCw2bGAWa9MHmFVQo5dJukzSdWoLJd1H0kZJexXLd09xexdx4SwwwzVRoJ8KALPYsIFZrE1fYXa4pJ8tA7OjJH2/QqpvSTqmEr8kCpj108hIFQoAs9iwgVmsTZ9gtq2k7SXtKemCFii9U9LpSwglnarNU2XR1lHADNNEgX4qAMxiwwZmsTZ9gpkHf7jr0NNbJG2zNX62+nWapPdtFbP5x9vTYJLKoq2jgFk/jYxUoQAwiw0bmMXa9Alm906tMncx+n7Z67bGz1a/usLsEElneVpYWMA1UAAFeqgAMIsNG5jF2vQJZiWtHpdaaHcqI4t5dzN+ovidZ+lm7KE5kSQUWIkCwCw2bGAWa9NXmN29ZWSiB4BclAlW/D+v5V7bllXpZlyJvbAuCqyfAsAsNmxgFmvTV5j52TPfO4taZnlovgeL5LBbCwDzepv+A7P1MyeOhAIrUQCYxYYNzGJt+gCzD0k6QtK+o8Eb+4yG479k9PtKSScX9DlX0nHFb8/6oWkPxT9Q0v7pzSE8NL0S12BdFOihAsAsNmxgFmvTB5i9VNJXE8A88OMLo1dbHSbpegW8PFT/hOK3Z2+WXmflba6QdNLorSE7NdYJf9Iy66GLkSQU2LiRN4BsiA0bmMXa9AFmIXAmuQCY4Zso0E8FaJnFhg3MYm2AWT/rM6lCgblVAJjFhg3MYm2A2dxaBhlHgX4qAMxiwwZmsTbArJ/1mVShwNwqAMxiwwZmsTbAbG4tg4yjQD8VAGaxYQOzWBtg1s/6TKpQYG4VAGaxYQOzWBtgNreWQcZRoJ8KALPYsIFZrA0w62d9JlUoMLcKALPYsIFZrA0wm1vLIOMo0E8FgFls2MAs1gaY9bM+kyoUmFsFgFls2MAs1gaYza1lkHEU6KcCwCw2bGAWawPM+lmfSRUKzK0CwCw2bGAWawPM5tYyyDgK9FMBYBYbNjCLtQFm/azPpAoF5lYBYBYbNjCLtQFmc2sZZBwF+qkAMIsNG5jF2gCzftZnUoUCc6sAMIsNG5jF2gCzubUMMo4C/VQAmMWGDcxibYBZP+szqUKBuVUAmMWGDcxibYDZ3FoGGUeBfioAzGLDBmaxNsCsn/WZVKHA3CoAzGLDBmaxNn2A2SMkfUDSdyVdKenzkh6t9rBRUnP6TPtmm9dYXFycW7Mg4yjQZwWAWWzYwCzWpg8wO1PSSZIeKen+kl6VIHVYC5gMMq+7RzHdrWWbLYuBWZ/tjLTNswLALDZsYBZr0weY7bSFMNfOGG7nX/uzOmeYPb26ZIxIYDbPdkne+6wAMIsNG5jF2vQBZjX0PFvSL2oLijhg1mdHIm0o0FEBYBYbNjCLtekrzN4j6SsFuGqzhtmPJP0q/f9HSbeorViLo2XW0WnYDAUmrAAwiw0bmMXa9BFmD5D0a0mPr0GoiDthBLyHS9pL0uGSLk2DR7Yt1glngdmEHYndo0BHBYBZbNjALNambzDbWdIPJL03pFC8YN80cGT/eBUdIuksTwsLCx2rGpuhAApMUgFgFhs2MIu16RPM3EV4tqTPSdp+GSBFi64j6SeSjopWKONpmU3Sjtg3CnRXAJjFhg3MYm36AjPD6wxJ50m6VQmdFc4bZi8ZZxtg1t1s2BIFJqkAMIsNG5jF2vQBZteVdKqkiyXdeRwQBes8KHUz7hcs3yoamE3Sjtg3CnRXAJjFhg3MYm36ALM3Jgg9o3j4OT8IvV0i0MckecrB9768XX7Q+ghJl0n6rCQGgHT3EbZEgakrAMxiwwZmsTZ9gNkFCWYeat+cPCDE4fQ0pZ/yiMdPS7pE0i8lXTgalv9qSTvkFdr+0zKbumeRABSoKgDMYsMGZrE2fYBZG3cmshyYVX2ESBSYugLALDZsYBZrA8ymXnVJAAqgQKkAMIsNG5jF2gCzshYxjwIoMHUFgFls2MAs1gaYTb3qkgAUQIFSAWAWGzYwi7UBZmUtYh4FUGDqCgCz2LCBWawNMJt61SUBKIACpQLALDZsYBZrA8zKWsQ8CqDA1BUAZrFhA7NYG2A29apLAlAABUoFgFls2MAs1gaYlbWIeRRAgakrAMxiwwZmsTbAbOpVlwSgAAqUCgCz2LCBWawNMCtrEfMogAJTVwCYxYYNzGJtgNnUqy4JQAEUKBUAZrFhA7NYG2BW1iLmUQAFpq4AMIsNG5jF2gCzqVddEoACKFAqAMxiwwZmsTbArKxFzKMACkxdAWAWGzYwi7UBZlOvuiQABVCgVACYxYYNzGJtgFlZi5hHARSYugLALDZsYBZrA8ymXnVJAAqgQKkAMIsNG5jF2gCzshYxjwIoMHUFgFls2MAs1gaYTb3qkgAUQIFSAWAWGzYwi7UBZmUtYh4FUGDqCgCz2LCBWaxNH2D2CEkfkPRdSVdK+rykR6s9bCfpGEk/lPRTSadK2rl9s81rLC4uTr3SkgAUQIGlCgCz2LCBWaxNH2B2pqSTJD1S0v0lvUrSRkmHtYDpDaN1LpH0OEn7jqbPSvqmpBu0bLdpMTBbaiLEoEAfFABmsWEDs1ibPsBspwp8DLfzK/E56naSfpVAluNuK+lqSU/KEcv9B2Z9sC3SgAJLFQBmsWEDs1ibPsCsxpxnS/pFbUGKe2KC2Y0b63xc0imNuOpPYLbURIhBgT4oAMxiwwZmsTZ9hdl7JH2lSqHNka+UdEFl+Wslfa0SvyQKmPXBtkgDCixVAJjFhg3MYm36CLMHSPr1CFaPX0KgayPeJOlL1/7cMne0pO9t+bV05hBJZ3laWFhYWouIQYF1UuBR++yz0ZWPaakGd95++40bN8SmNc/LgFlcLvoGM49G/IGk9y7l0FYxXWG2ZSe0zNbJtTlMVYFNFQ/DrkILw44NG21ibfoEs1tIOlvS5yRtv4U69Rl3M9YGiNDNWLVOIvumADCLTQnDRpsure++wMzwOkPSeZJuVefXVrF5AMiNtoqVPsYAkL7ZNumpKQDMMOwuhg3o43LTB5hdNz3wfLGkOzfgFP3MQ/MfU6xwG4bm12yTuD4qAMxiU8Kw0aYL6PsAszemh6SfIWmPxuS3fDi4xeWpDH5o+kej1txjJT1oNH2Gh6b7aNukqaYAMMOwuxg2oI/LTR9g5iH2fuNHbcqvpzpdkqcyGHTHSnKLzq+z+qCkO5QrLDfPAJCaxRK3XgoAs9iUMGy06QL6PsBsOeZMbBkwWy/b5jg1BYAZht3FsAF9XG6AWc1piEOBCSsAzGJTwrDRpgvogdmETYvdo0BNAWCGYXcxbEAflxtgVnMa4lBgwgoAs9iUMGy06QJ6YDZh02L3KFBTAJhh2F0MG9DH5QaY1ZyGOBSYsALALDYlDBttuoAemE3YtNg9CtQUAGYYdhfDBvRxuQFmNachDgUmrAAwi00Jw0abLqAHZhM2LXaPAjUFgBmG3cWwAX1cboBZzWmIQ4EJKwDMYlPCsNGmC+iB2YRNi92jQE0BYIZhdzFsQB+XG2BWcxriUGDCCgCz2JQwbLTpAnpgNmHTYvcoUFMAmGHYXQwb0MflBpjVnIY4FJiwAsAsNiUMG226gB6YTdi02D0K1BQAZhh2F8MG9HG5AWY1pyEOBSasADCLTQnDRpsuoAdmEzYtdo8CNQWAGYbdxbABfVxugFnNaYhDgQkrAMxiU8Kw0aYL6IHZhE2L3aNATQFghmF3MWxAH5cbYFZzGuJQYMIKALPYlDBstOkC+r7AbBdJb5D0ZUnXSDpd7WFnSRsr08ntm0qLi4sTtit2jwKxAsAMw+5i2IA+Ljd9gdnDJF0o6V2Szl4hzJ4laY9iMhhbAzCLjZYlk1cAmMWmhGGjTRfQ9wVm2xT0efcKYfaQYtuxZ4HZ5A2bI8QKADMMu4thA/q43PQFZiWEgFnsgSyZEQWAWWxKGDbadAH9LMDs4nSf7SJJx0q6YUnGaJ6W2YxQYaDZAGYYdhfDBvRxuRkyzG4t6TWS9ht1S24YQetISVdJen8EsDIemA2UAjOSbGAWmxKGjTZdQD9kmJVsyvNPSaMb75kjGv8PkXSWp4WFhRmxRbIxRAWAGYbdxbABfVxuZg1mt0wwe2IDYkt+0jIbIgJmJ83ALDYlDBttutDFZUgAABk9SURBVIB+1mC2U4LZE5bQqxEBzGYHDEPMCTDDsLsYNqCPy82swezQBLN7NNi15CcwGyICZifNwCw2JQwbbbqAvi8w217SQWk6U9LXit9e5nCupOPSvP95wMcxo7eGHChpb0lHpQEgpxTrhLPAbHbAMMScADMMu4thA/q43PQFZtGrqfy6Ki9zuGA0f0Ka97+D02COyyVdnWBnoG1XrBPOArMhImB20gzMYlPCsNGmC+j7ArMQOpNaAMxmBwxDzAkww7C7GDagj8sNMBuiE5LmwSsAzGJTwrDRpgvogdngbZEMDFEBYIZhdzFsQB+XG2A2RCckzYNXAJjFpoRho00X0AOzwdsiGRiiAsAMw+5i2IA+LjfAbIhOSJoHrwAwi00Jw0abLqAHZoO3RTIwRAWAGYbdxbABfVxugNkQnZA0D14BYBabEoaNNl1AD8wGb4tkYIgKADMMu4thA/q43ACzITohaR68AsAsNiUMG226gB6YDd4WycAQFQBmGHYXwwb0cbkBZkN0QtI8eAWAWWxKGDbadAE9MBu8LZKBISoAzDDsLoYN6ONyA8yG6ISkefAKALPYlDBstOkCemA2eFskA0NUAJhh2F0MG9DH5QaYDdEJSfPgFQBmsSlh2GjTBfTAbPC2SAaGqAAww7C7GDagj8sNMBuiE5LmwSsAzGJTwrDRpgvogdngbZEMDFEBYIZhdzFsQB+XG2A2RCckzYNXAJjFpoRho00X0PcFZrtIeoOkL0u6RtLpGi/sIOl4SZdKulzSiZJ2HGfTxcXFwRsiGRiuAsAMw+5i2IA+Ljd9gdnDJF0o6V2Szl4BzD4s6XxJD5d0gKRvSPoUMBuuyc9LyoFZbEoYNtp0AX1fYLZNAaB3jwmz+0jaKGmvYtvdU9zeRVx1lpbZvGCjn/kEZhh2F8MG9HG56QvMSuCMC7OjJH2/3DDNf0vSMZX4raKAWT9Nfl5SBcxiU8Kw0aYL6IcMs3cGLbhTJXlaNgCzecFGP/MJzDDsLoYN6ONyM2SYnSbpfRVivV3SGZX4raKAWT9Nfl5SBcxiU8Kw0aYL6OcNZodIOsvTwsLCmvjmo/bZZ6NFZFqqwa477oguQdm48/bbb+xSYedhG2AGzLqU8yHDzN2Mn9iqubX5x7p2M24ScENc+LqclFnZBlOKywXaoE2Xek65icvNkGHmASAXVWB23noOAAFmceGi4qENhh2XAbRZW22GDLM8NH/PAmi7rffQfGAWF0hghjYYdlwG0GZttekLzLaXdFCazpT0teK3lzmcK+m4NJ//+aFpD8U/UNL+ks5Z74emgVlcIIEZ2mDYcRlAm7XVpi8w2zm1qPwQdHPyMocLJJ2Q5vO/m6XXWV0m6QpJJ0naKS9c7v9ajWYEZnGBBGZog2HHZQBt1labvsBsOe5MZBkwW9uCVKuYwCzWGG3QplZn2uIoN3G5AWarHKBPyywuXFQ8tGkz59pyyg3lplYu2uKAGTCb2PNOmBKm1GZAteWUG8pNrVy0xQEzYAbMpvCcIIaNYbeZc2055SYuN8AMmAEzYDaxMlAz5LY4DDs2bLSJtQFmwGxiRkbFiyse2qBNG9Rryyk3cbkBZsAMmNEym1gZqBlyWxyGHRs22sTaADNgNjEjo+LFFQ9t0KYN6rXllJu43AAzYAbMaJlNrAzUDLktDsOODRttYm2AGTCbmJFR8eKKhzZo0wb12nLKTVxugBkwA2a0zCZWBmqG3BaHYceGjTaxNsAMmE3MyKh4ccVDG7Rpg3ptOeUmLjfADJgBM1pmEysDNUNui8OwY8NGm1gbYAbMJmZkVLy44qEN2rRBvbacchOXG2AGzIAZLbOJlYGaIbfFYdixYaNNrA0wA2YTMzIqXlzx0AZt2qBeW065icsNMANmwIyW2cTKQM2Q2+Iw7Niw0SbWBpgBs4kZGRUvrnhogzZtUK8tp9zE5QaYATNgRstsYmWgZshtcRh2bNhoE2sDzIDZxIyMihdXPLRBmzao15ZTbuJyA8yAGTCjZTaxMlAz5LY4DDs2bLSJtekLzO4q6WOSfibpe5KOkrStlg87S9pYmU5efrPNSxcXF1eJsc2bbxJwCmbYZgh9WE7Fiyse2qBNlzpKuYnLTR9gdvMEsI9KeqCkQyX9VNLRLVDKMHuWpD2KaZeW7TYtBmZxoehSyWrbUPFijdEGbWp1pi2OchOXmz7A7PmSLpV00wJCz0mttDKuWLxpNsPsIc0F4/wGZnGhaKtQ4y6n4sUaow3ajFuPyvUoN3G56QPMPimp2TW4kLoPH7oMmIBZz7s3qXhxxUMbtCkhNe485SYuN32A2Q9HwDqyAi13NT67Ep+jMswulnSNpItGrbtjJd0wr7Dcf1pmcaEYt2K1rUfFizVGG7Rpqz+15ZSbuNz0AWa/lPTMCni+I+nllfgcdWtJr5G0n6QNo0gD8SpJ788rVP4fIuksTwsLCwwAmXDLjooXVzy0QZsarNriKDdxuRkyzCqs0lNS9+Q9awvLOFpmcaFoq1DjLqfixRqjDdqMW4/K9Sg3cbnpA8zczfjiEjRpvq2bsbKJbplg9sTawjIOmMWFoqw8q5mn4sUaow3adKlblJu43PQBZh4A8o4SNJJuP8YAkMYmm37ulLZ7Qm1hGQfM4kLRpZLVtqHixRqjDdrU6kxbHOUmLjd9gJmH5v9Y0k0K2BwxxtD8YvUts35GzQ9S32NLTDADzOJC0Vahxl1OxYs1Rhu0GbceletRbuJy0weY+aFpj0Q8TdLeoweoPUjjyspD0+eOWmzHFWzygI9jJB2YtvNbQzwA5JRinXAWmMWFoqw8q5mn4sUaow3adKlblJu43PQBZgaOX2f18QQjg+2llddZXSDphIJOB6eRiZdLulqSYWegbVesE84Cs7hQdKlktW2oeLHGaIM2tTrTFke5ictNX2AWQmdSC4BZXCjaKtS4y6l4scZogzbj1qNyPcpNXG6A2SqfNtsk4ISf1yoL85DmqXhxxUMbtOlSlyk3cbkBZsBsYp//oOLFFQ9t0AaYxWWgizbADJgBsym0rIFZbGRogzbAbAU32LhnFleYLgWptg2mFGuMNmhTqzNtcZSbuNzQMqNlRsuMltnEykCbOdeWY9ixYaNNrA0wA2YTMzIqXlzx0AZtaiBvi6PcxOUGmAEzYEbLbGJloM2ca8sx7Niw0SbWBpgBs4kZGRUvrnhogzY1kLfFUW7icgPMgBkwo2U2sTLQZs615Rh2bNhoE2sDzIDZxIyMihdXPLRBmxrI2+IoN3G5AWbADJjRMptYGWgz59pyDDs2bLSJtQFmwGxiRkbFiyse2qBNDeRtcZSbuNwAM2AGzGiZTawMtJlzbTmGHRs22sTaADNgNjEjo+LFFQ9t0KYG8rY4yk1cboAZMANmtMwmVgbazLm2HMOODRttYm2AGTCbmJFR8eKKhzZoUwN5WxzlJi43wAyYATNaZhMrA23mXFuOYceGjTaxNsAMmE3MyKh4ccVDG7SpgbwtjnITlxtgBsyAGS2ziZWBNnOuLcewY8NGm1ibvsDsrpI+Julnkr4n6ShJ247xebIdJB0v6VJJl0s6UdKOY2wnvmcWF4qawXSJo+LFGqMN2lCn4jLQRZs+wOzmCWAflfRASYdK+qmko8eA0oclnS/p4ZIOkPQNSZ8aYztgtg6tEQw7rqxogzZdDJtyE5ebPsDs+allddMCQs9JrbQyrli8afY+kjZK2qtYsHuK27uIq87SMosLRZdKVtuGihdrjDZoU6szbXGUm7jc9AFmn5R0coM4CwlKD23Elz/dFfn9MiLNf0vSMZX4raKAWVwo2irUuMupeLHGaIM249ajcj3KTVxu+gCzH44oc+RWpNn8w12Nz67E56h3Sjo9/yj+nyrJ07IBmMWFoqw8q5mn4sUaow3adKlblJu43PQBZr+U9MwKeb4j6eWV+Bx1mqT35R/F/7dLOqP4XZ0FZnGh6FLJattQ8WKN0QZtanWmLY5yE5ebeYPZIZLOStNPivkcN+n/F0zhmJPOU97/LOfNeZzl/M1y3jh313perqtD+j+NsnlxtQU0RqS7GV9cWW+cbsZPVLYbq5uxst16RLkQzWqY5bz5nM1y/mY5b5y7YTvOoMqmB4C8o6H37cccAHJRYzv/PG+cASCV7dYjalAnZoWCzHLeLMUs52+W88a5W2FF7tnqgyqbHpr/4xGAblKIeMQKhubvWWy327hD84tt1nN2UCdmhcLMct4sxSznb5bzxrlbYUXu2eqDKpt+aNotLA/o8PNhvq91ZeWh6XMlHdcQ2g9Neyj+gZL2l3TOuA9NN/azXj+dt1kNs5w3n7NZzt8s541zN2zHGVzZ9OusPi7pqgS2l1ZeZ+UbgSc0zsvN0uusLpN0haSTJO3UWIefKIACKIACKIACKIACKIACKIAC86LAIyR9QNJ3Uzfp50fdno+uZP7PJH1T0s8leZ0HVNbpY9RB6fm9S1La3aX7wtGzgNcvEnsdSS+QdGFqZXtwz72K5UOZvW06h35d2o2LRA81f49P95Kdn3Lye1BzGGrenP7rjsrk81K9+oUkP6P6Nzlj6f9Q8+cXQ5TnrJz3K/0chpo3p/1gSV9I9c3e+VZJt9mcrS1/h5y/LZkY0syZqZvzkZLuPzLBV6VCeFiRCcPtmtH0l5Lul06cu1bvXqzT19knp/uYfqGz0/7cBKzXFAn2YB7n5+np/ucHR/M/kvSbxTpDmHV3tV+VZuMoYTbU/GWY+bztUUy3Kk7GUPPmLPhFCf7ahsvofSU9pvLChaHmz7dgynPm+Y9I8rNQhrjDUPO2X6pj9hBf1Pu8+XbSF0dfTtkm5W3I+SuyMKzZ2r06m6Lf6p+DWzP/mH+kE/aVVBmL6MHMvmz09hbfr/SV0w3SZ3heVKT+RqnSjfMFhGKzqc76xdUeXesRtSXMhpy/DLMSzKXIQ87bgyT5LUI2/SgMOX/NPLknxOXzH9KCIefN7+R171QZMuB+O0UOOX9lvgY/73dLutvD4Y7JHF35ymDzd9fdEMPh6REKw8ytUZv/ro2MGN7NAttYpTc//Q29/0yvV2sCYMj5a+alKfiQ8+Z3tHpU83JhyPlr5iubff5ayJDzdkoa+Ffm0fmyj+SLkyHnr8zX4OffM/rWmlteDn+YTtLO6Xf+53ttPnm3zBE9/2/D316Sn+9zl0D+QsFTR/fQflUZhWqg+20uQwhPG/Xhf13S9UZ5awJgyPnLeflBOkfuIXCXXA5Dztu3Rx/k/fvRKGZ3VXlEsz/w63pX3ncZcv7yOcr/3dvje9K+gHQYct4enFrVj5Pkz33dZXRR7Pvs/lBzDkPOX87D4P+7D/jXyRSdmT9O0PLjBGXws3WGmU/kEIIHrji9nt5S9G3/v9Tl2MzDk9K65UCR5jp9+O0vlLv7xhcdDhkAuWtuyPn7gzRYZx9J+6bz5vP3FymvQ86bez78ntV/T+fuUZIMuM8Whj/k/KVTtOmfLyL9DG6+gHTk0PNmXyw95dOSSo8cev7K8zfIebe+fBX83iL1swKze6dWmbsYfb/sdSmPQy90r5fkASs5zBLMcp7K//+Uurd9o33I5+7qZPC+GMkhd1XlkcJDzl/Ok/8b1L4I8ZuOchhy3jwgyRcifzX6nNeGlL+zR4N4/M5d9wA5DDl/KQvD/XeL0UnxCflc6o7LOcndjP8rR6T/Q+tmLJPv7gFXrjsNvLvjbqNHCmyKHinmq0JP7t5w3jxM/4YDz195zvJ8Lne+lzvkrhxfNHokcRkMaLfY8kjiIeevzJcvjv1YTxmGnDcPyT+xzMzoPb2/leqd3+rkMOT8pSwM85+7AfwtNb/suBz27NzkASDu8imDh+kPdQCIHymw4burNN+odWEsg19B1vcBIH4VmvMRTW8eeP7K85Hn/dyg83uHgefNz2F9Jmcq/TfMfHHie6AOQy6bKQvaIXXHHZUj0v8h5833N2sfYC7jh5y/xqkazk8/8+HPz/j5jzsHyfaNdxtjDq50Xx7w0HwPIrAhumWWh9D6QeocDHd/4qfvQ/P9WIW7OcrpFSlvvsdkQA85f/l8lP89LNpl1WVwyHnzIxQeYFQ+GuPz6HKZX0I+5Pzlc5a7vfOQ9Rw/5Ly5B6v5xRTnz+fOPQcOQ85fysLw/r0xnYRnVB5y3C5lJz80bcN3f7HfNTmUh6Y/lJ69srl7IMFL0r0Km2IOfnjTV1W+Ivb9CsPdD03/Rl5hQP+zeeQBIE76UPPnIdB+yN3n7iGji4+3pbKau+GGnDePgvvv1NX4UEl/lEb7+cXlZRjquct5cP37Uv7R+D/UvP15GiTnAS3u3fG4Al/w+9lcP6Oaw1Dzl9M/uP8epu4ritpUDsf366z8BQD36bvPON+k7nuG/fLnryaAeeCH024z9DD2HDxc2Dds/TohQ/pTkn43LxzY/xrMhpq/lyeT8IWGz4u7fR/bOB9DzZuzsUsavOMW2qXpItFf4yjDkPPnVqcfDPcru2phqHlzup+Seqd87vw6Kw9M8i2ZMgw1f2UemEcBFEABFEABFEABFEABFEABFEABFEABFEABFEABFEABFEABFEABFEABFEABFEABFEABFEABFEABFEABFEABFEABFEABFEABFJhNBf40PVN4u0b2/NJUP2vor+aW4YEp/v+UkcvM155zW2b1LYuOTA+qb4kIZp6T3ngSLN4Snd+msRZfQ/dLAs7asmdmUAAFUAAFpq5Afu3OIxsp8YPifgA0f00gL35xerdefhtMjo/++/t2fvGxXze1kjAuzPxmFq/bFvyGDafDL1tebQBmq1WQ7VEABVBgjRXwWwn8gui/Lfbrt6H4DRv+pH3z1UP+GrK/1TTpsNYwW8v0ArO1VJN9oQAKoMAaKfAv6VM/eXe7J5j9Tvqi803SAreu/AqwV+YVR1/T/b+j93P+W3qXpaH4ptFHF/P6Xq3Wzbgg6V/TMfz+Oq/z7lF3od8cn0OGmV8j5rfJ+xVWX0zHy+vUXr3m7sRaqHUzuhvV79Xza7L8smK/TPq1ktpanU2Y+YOt/iq0363oV1I5eB++GLBe1uWvR/PPTF20aZVNr1B7VdrOr4X7Xvp2YN8/AJvTz38UQAEU6JUCL0ifGsldcDZ4f/E4t9r88lQHw80AeFj6/fvp3Zx+D52/c+f3JPq9dAZTDk2YeZ9u7RlEfmH1Aen9mBdWYGaA+WsMT0gvFzbUDB1/xcDBoDMs/AUHdyF6cndiLUQwM4AMJ3/SyJ/x+NUInL4Pt1woYea3oftF1P5cUvmNv79LsPZXsB+U3tXnPFq/HF4k6aLRC2n/RJI/xOmuXu87n4e8Hv9RAAVQAAXGUOC+yWRtqA6Gk1sSDjZqm65D/lSO74M5+L6av6ZbhvzdpjzQogmzB6dj/e9iI3841C+gbbbMbPzeXw73StsaDjmMe88sgtkn847S//dVvivWWGUTcDwAxFD9qKSvp4+f5vX8tWh305bfuDLEv9aAmVvEftM6AQVQAAVQYA0UsCmXbzN3CyJ/IdcfXfVnOxzeMvo0yTfSvLdxK8ZvC/c38PLkLjJ/UNKtDYcmzNx96NZIM7jV1YSZu97KgSPetwH3pGLj1cKs/G6dd+suR38tYbng1pO/YWUQuuXY/DRQBmfzA6/523J53/4+nrsg3RK8R2oJ52X8RwEUQAEU6KDAf0j6wKjLzkP0DYzfTPtwF6O78tyy8Kfuj0/xbk15vWjKkGjC7PUJAM0k/nMFZgZVM/h4Ty8iVwuzcl/ebb5XVxxiyaxhdnmCub+H1wwHJ11u0VjwrBSfo91F6S8u53t/hqi7eAkogAIogAIdFfBoRt+P8n0bD8rIwfegrkkfYTVI/B07B3908NepC3I3Sc3pNmm9JsxW0jLrM8zczeh7hNbGrdMyjNsyK7fxV93d5WiNy27Uch3mUQAFUAAFWhQwxGykvkd2UmNdd6U53svvWiw7Q9KJxe/abBNm+Z6ZR0zmEN0zGwdmHgHo7ru2kAGT7+V5feena8ssPzRtkBlo5cPl+Z5ZOZCkds+smWav83NJhzcX8BsFUAAFUGA8BXL3oltb/vJ2Gd6QWmE/btzX2TONZnxbGuHowRqG17tGQLxL2kETZjbscjTj/mnIvbvYPl4cNOruawLI23xl1EVpWLl1WD4WUOxu03Jvu9Yw8zE80MP3HJ2XHF4djGa0vjm8d9RV6e5YA97a+QF134d0PggogAIogAIdFfh2aq00zTQDya2zZvi9NEDkivTGkP8aDY8/VtIOacW87Y2LDT2E3YNK3ArxMQ+R9BFJHkmYw7gwW0yjD/22EsPKUKuFSbXM8rF878v58eu+HHw/zM+Z+d7apZIMN+fJ9x9zMATdwvM6Pxk9fvDZ4rGHvA7/UQAFUAAFBqKAwedRfbXBFAPJwljJ9DB+P2BOQAEUQAEUmAEFDk2tsfulASceln9l46HjoWfTeXuepH1SN+JbU8vxoKFnjPSjAAqgAApsVsBdj35Oy2/4cPegH7z22ztmKfihcEPaXYh+Xu6rxbN3s5RP8oICKIACKIACKIACKIACKIACKIACKIACKIACKIACKIACKIACKIACKIACKIACKIACKIACKIACKIACKIACKIACKIACKIACKIAC86TA/wDXIL3KhrFyzgAAAABJRU5ErkJggg==)"
      ],
      "metadata": {
        "id": "CmNeETSh_l7d"
      }
    },
    {
      "cell_type": "markdown",
      "source": [
        "Part-03: Access Data from various sources and formats"
      ],
      "metadata": {
        "id": "A43hLXei_rE9"
      }
    },
    {
      "cell_type": "code",
      "source": [
        "import numpy as np\n",
        "import pandas as pd"
      ],
      "metadata": {
        "id": "cgfHCHeS_v_V"
      },
      "execution_count": null,
      "outputs": []
    },
    {
      "cell_type": "code",
      "source": [
        "df1 = pd.read_table(\"Lab01-Text.txt\")"
      ],
      "metadata": {
        "id": "K6-qznPL_zCl"
      },
      "execution_count": null,
      "outputs": []
    },
    {
      "cell_type": "code",
      "source": [
        "df1"
      ],
      "metadata": {
        "id": "QI8kjTYB_0tV"
      },
      "execution_count": null,
      "outputs": []
    },
    {
      "cell_type": "code",
      "source": [
        "data2 = pd.read_csv(\"Lab01-Text.csv\")"
      ],
      "metadata": {
        "id": "Vxfk3Xno_2ct"
      },
      "execution_count": null,
      "outputs": []
    },
    {
      "cell_type": "code",
      "source": [
        "data2"
      ],
      "metadata": {
        "id": "N8KzjYsI_4KF"
      },
      "execution_count": null,
      "outputs": []
    },
    {
      "cell_type": "code",
      "source": [
        "data3 = pd.read_excel(\"Height_weight.xlsx\")"
      ],
      "metadata": {
        "id": "-zbNwYKG_6IE"
      },
      "execution_count": null,
      "outputs": []
    },
    {
      "cell_type": "code",
      "source": [
        "data3"
      ],
      "metadata": {
        "id": "hJHFkN5y_-Ht"
      },
      "execution_count": null,
      "outputs": []
    }
  ]
}